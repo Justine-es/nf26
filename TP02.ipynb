{
 "cells": [
  {
   "cell_type": "markdown",
   "id": "05d0af2f",
   "metadata": {},
   "source": [
    "# NF26 — Stockage en haute volumétrie et applications\n",
    "# TD7 — Algorithmes en Streaming et Map-Reduce"
   ]
  },
  {
   "cell_type": "markdown",
   "id": "d765afb7",
   "metadata": {},
   "source": [
    "## 1 Question préliminaires\n",
    "Question Pour 𝑑 = 4, estimer la valeur maximale de 𝑛 de telle sorte à ce que 𝑋 puisse\n",
    "tenir dans 8GiB de RAM en utilisant des flottant standards.\n",
    "-  float = 32 bits \n",
    "- double = 64 bits\n",
    "- 1 octet = 8 bits \n"
   ]
  },
  {
   "cell_type": "markdown",
   "id": "2cc597e9",
   "metadata": {},
   "source": [
    "Question Donner une solution simple qui permet de doubler la valeur maximale de 𝑛\n",
    "en perdant en précision sur la représentation des flottants.\n",
    "- 1/2 milliard de ligne \n"
   ]
  },
  {
   "cell_type": "markdown",
   "id": "fb6d8883",
   "metadata": {},
   "source": [
    "## 2 Traitements en haute volumétrie, en streaming\n",
    "### 2.1 Algorithmes élémentaires\n"
   ]
  },
  {
   "cell_type": "markdown",
   "id": "80294265",
   "metadata": {},
   "source": [
    "**Question** *Créer un générateur qui permet de lire les données en streaming et qui\n",
    "retourne pour chaque ligne une dataclass.*"
   ]
  },
  {
   "cell_type": "code",
   "execution_count": 28,
   "id": "e11cbdfa",
   "metadata": {},
   "outputs": [],
   "source": [
    "import csv\n",
    "from pathlib import Path\n",
    "from dataclasses import dataclass\n",
    "from datetime import datetime\n",
    "from typing import Iterable"
   ]
  },
  {
   "cell_type": "code",
   "execution_count": 18,
   "id": "0ba86518",
   "metadata": {},
   "outputs": [],
   "source": [
    "import numpy as np\n",
    "import csv\n",
    "from dataclasses import dataclass\n",
    "from datetime import datetime\n",
    "def data_reader() -> dict: \n",
    "    for file in [\"202403-citibike-tripdata_1.csv\",\"202403-citibike-tripdata_2.csv\", \"202403-citibike-tripdata_3.csv\"] : \n",
    "        with open(file, 'r') as data:\n",
    "            yield from csv.DictReader(data)\n"
   ]
  },
  {
   "cell_type": "code",
   "execution_count": 7,
   "id": "bfa84c9c",
   "metadata": {},
   "outputs": [
    {
     "data": {
      "text/plain": [
       "{'ride_id': '0FC89A53DF9D7E90',\n",
       " 'rideable_type': 'electric_bike',\n",
       " 'started_at': '2024-03-07 19:49:43',\n",
       " 'ended_at': '2024-03-07 20:20:33',\n",
       " 'start_station_name': '48 St & Skillman Ave',\n",
       " 'start_station_id': '6283.05',\n",
       " 'end_station_name': 'Kingston Ave & Park Pl',\n",
       " 'end_station_id': '4016.03',\n",
       " 'start_lat': '40.746153593',\n",
       " 'start_lng': '-73.916188598',\n",
       " 'end_lat': '40.67308',\n",
       " 'end_lng': '-73.94191',\n",
       " 'member_casual': 'member'}"
      ]
     },
     "execution_count": 7,
     "metadata": {},
     "output_type": "execute_result"
    }
   ],
   "source": [
    "reader = data_reader()\n",
    "next(reader)"
   ]
  },
  {
   "cell_type": "code",
   "execution_count": 23,
   "id": "97a91f78",
   "metadata": {},
   "outputs": [],
   "source": [
    "@dataclass(frozen=True)\n",
    "class Trip:\n",
    "    started_at: datetime\n",
    "    ended_at: datetime\n",
    "    start_lat: float\n",
    "    start_lng: float\n",
    "    end_lat: float\n",
    "    end_lng: float\n"
   ]
  },
  {
   "cell_type": "code",
   "execution_count": 35,
   "id": "b26cec3e",
   "metadata": {},
   "outputs": [],
   "source": [
    "def get_data() -> dict:\n",
    "    for path in Path(\"202403-citibike-tripdata.csv\").rglob(\"*.csv\"):\n",
    "        reader = csv.DictReader(path.open(\"r\"))\n",
    "        for row in reader:\n",
    "            try:\n",
    "                yield Trip(\n",
    "                    started_at=datetime.strptime(row[\"started_at\"], \"%Y-%m-%d %H:%M:%S\"),\n",
    "                    ended_at=datetime.strptime(row[\"ended_at\"], \"%Y-%m-%d %H:%M:%S\"),\n",
    "                    **{\n",
    "                        col: float(row[col])\n",
    "                        for col in (\"start_lat\", 'start_lng',\"end_lat\", 'end_lng')\n",
    "                    }\n",
    "                )\n",
    "            except ValueError:\n",
    "                pass\n"
   ]
  },
  {
   "cell_type": "code",
   "execution_count": 36,
   "id": "98d01b93",
   "metadata": {
    "scrolled": true
   },
   "outputs": [
    {
     "data": {
      "text/plain": [
       "Trip(started_at=datetime.datetime(2024, 3, 7, 19, 49, 43), ended_at=datetime.datetime(2024, 3, 7, 20, 20, 33), start_lat=40.746153593, start_lng=-73.916188598, end_lat=40.67308, end_lng=-73.94191)"
      ]
     },
     "execution_count": 36,
     "metadata": {},
     "output_type": "execute_result"
    }
   ],
   "source": [
    "next(iter(get_data()))"
   ]
  },
  {
   "cell_type": "markdown",
   "id": "f939db0e",
   "metadata": {},
   "source": [
    "**Question** *Créer la fonction mean qui à l’aide du générateur calcule en streaming la\n",
    "moyenne empirique 𝑇̄ de la durée d’un trajet et la moyenne empirique 𝐷̄ de la distance\n",
    "parcourue, en une passe sur le jeu de données.*"
   ]
  },
  {
   "cell_type": "code",
   "execution_count": 40,
   "id": "a52b5590",
   "metadata": {},
   "outputs": [],
   "source": [
    "first_100 = []\n",
    "for i, el in enumerate(get_data()) : \n",
    "    first_100.append(el)\n",
    "    if i> 100 : \n",
    "        break\n",
    "#first_100"
   ]
  },
  {
   "cell_type": "code",
   "execution_count": 39,
   "id": "28c8cd28",
   "metadata": {},
   "outputs": [
    {
     "name": "stdout",
     "output_type": "stream",
     "text": [
      "733.2550470748557\n"
     ]
    }
   ],
   "source": [
    "n_trips= 0\n",
    "n=0\n",
    "for i, el in enumerate(get_data()) : \n",
    "    n+=1\n",
    "    n_trips+=(el.ended_at-el.started_at).seconds\n",
    "print(n_trips/n) "
   ]
  },
  {
   "cell_type": "markdown",
   "id": "af2b7cde",
   "metadata": {},
   "source": [
    "### 2.2 Algorithmes approchés en streaming\n",
    "**Question** Créer la fonction median qui à l’aide du générateur calcule en streaming une\n",
    "valeur approchée de la médiane de la durée d’un trajet.\n"
   ]
  },
  {
   "cell_type": "code",
   "execution_count": 42,
   "id": "0163400f",
   "metadata": {},
   "outputs": [
    {
     "ename": "KeyboardInterrupt",
     "evalue": "",
     "output_type": "error",
     "traceback": [
      "\u001b[1;31m---------------------------------------------------------------------------\u001b[0m",
      "\u001b[1;31mKeyboardInterrupt\u001b[0m                         Traceback (most recent call last)",
      "Cell \u001b[1;32mIn[42], line 19\u001b[0m\n\u001b[0;32m     17\u001b[0m n_trips_above_estimate \u001b[38;5;241m=\u001b[39m \u001b[38;5;241m0\u001b[39m\n\u001b[0;32m     18\u001b[0m \u001b[38;5;28;01mfor\u001b[39;00m el \u001b[38;5;129;01min\u001b[39;00m get_data():\n\u001b[1;32m---> 19\u001b[0m     \u001b[38;5;28;01mif\u001b[39;00m (\u001b[43mel\u001b[49m\u001b[38;5;241;43m.\u001b[39;49m\u001b[43mended_at\u001b[49m\u001b[38;5;241m-\u001b[39mel\u001b[38;5;241m.\u001b[39mstarted_at)\u001b[38;5;241m.\u001b[39mseconds \u001b[38;5;241m<\u001b[39m median_estimate : \n\u001b[0;32m     20\u001b[0m         n_trips_below_estimate\u001b[38;5;241m+\u001b[39m\u001b[38;5;241m=\u001b[39m\u001b[38;5;241m1\u001b[39m\n\u001b[0;32m     21\u001b[0m     \u001b[38;5;28;01melse\u001b[39;00m : \n",
      "\u001b[1;31mKeyboardInterrupt\u001b[0m: "
     ]
    }
   ],
   "source": [
    "#calcul du min et max possible en streaming mais pas de la median\n",
    "precision = 10\n",
    "median= 0\n",
    "mini = np.Inf  \n",
    "maxi = -np.Inf\n",
    "for i, el in enumerate(get_data()):\n",
    "    duree = (el.ended_at-el.started_at).seconds\n",
    "    if duree < mini : \n",
    "        mini= duree\n",
    "    if maxi < duree : \n",
    "        maxi = duree\n",
    "median_estimate = (mini+maxi)/2\n",
    "median_min= mini\n",
    "median_max= maxi\n",
    "while(median_estimate - median_min > precision):\n",
    "    n_trips_below_estimate = 0\n",
    "    n_trips_above_estimate = 0\n",
    "    for el in get_data():\n",
    "        if (el.ended_at-el.started_at).seconds < median_estimate : \n",
    "            n_trips_below_estimate+=1\n",
    "        else : \n",
    "            n_trips_above_estimate +=1\n",
    "    if n_trips_below_estimate < n_trips_above_estimate : \n",
    "        median_min = median_estimate\n",
    "    else : \n",
    "        median_max = median_estimate\n",
    "    median_estimate = (median_min + median_max/2)"
   ]
  },
  {
   "cell_type": "markdown",
   "id": "a62f1c06",
   "metadata": {},
   "source": [
    "## 3 Traitements en haute volumétrie, Map-Reduce avec PySpark\n",
    "Question À l’aide de l’API RDD de PySpark, calculer :\n",
    "- La station de départ la plus fréquente,\n",
    "- Les 4 trajets les plus fréquents l’après-midi,\n",
    "- Une valeur approchée du 3ème quartile de la durée d’un trajet.\n"
   ]
  }
 ],
 "metadata": {
  "kernelspec": {
   "display_name": "Python 3 (ipykernel)",
   "language": "python",
   "name": "python3"
  },
  "language_info": {
   "codemirror_mode": {
    "name": "ipython",
    "version": 3
   },
   "file_extension": ".py",
   "mimetype": "text/x-python",
   "name": "python",
   "nbconvert_exporter": "python",
   "pygments_lexer": "ipython3",
   "version": "3.9.16"
  }
 },
 "nbformat": 4,
 "nbformat_minor": 5
}
